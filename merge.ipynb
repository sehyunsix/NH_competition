{
 "cells": [
  {
   "cell_type": "code",
<<<<<<< HEAD
   "execution_count": null,
=======
   "execution_count": 3,
>>>>>>> 5aaa5931eae61afbfefd6bab4fa7315c55494121
   "metadata": {},
   "outputs": [],
   "source": [
    "from datasets import load_dataset\n",
    "import pandas as pd"
   ]
  },
  {
   "cell_type": "code",
<<<<<<< HEAD
   "execution_count": null,
   "metadata": {},
   "outputs": [],
   "source": [
    "dataset = load_dataset('sehyun66/Finnhub-News', split = 'train')"
   ]
  },
  {
   "cell_type": "code",
   "execution_count": null,
   "metadata": {},
   "outputs": [],
   "source": [
    "df = pd.DataFrame(dataset)"
   ]
  },
  {
   "cell_type": "code",
   "execution_count": null,
   "metadata": {},
   "outputs": [],
   "source": [
    "len(df)"
   ]
  },
  {
   "cell_type": "code",
   "execution_count": null,
   "metadata": {},
   "outputs": [],
   "source": [
    "df[df['related']=='ANGH']"
   ]
  },
  {
   "cell_type": "code",
   "execution_count": null,
   "metadata": {},
   "outputs": [],
   "source": [
    "import os\n",
    "import json\n",
=======
   "execution_count": 1,
   "metadata": {},
   "outputs": [
    {
     "name": "stdout",
     "output_type": "stream",
     "text": [
      "Merged 212 JSONL files into /Users/yuksehyun/Desktop/NH나무/mergedata/train/merged.jsonl\n"
     ]
    }
   ],
   "source": [
    "import os\n",
    "import json\n",
    "#종목별 데이터 json파일로 병합\n",
    "\n",
>>>>>>> 5aaa5931eae61afbfefd6bab4fa7315c55494121
    "\n",
    "# Function to merge JSONL files in a directory\n",
    "def merge_jsonl_files(directory_path, output_file):\n",
    "    # List all files in the directory\n",
    "    files = os.listdir(directory_path)\n",
    "\n",
    "    # Filter JSONL files\n",
    "    jsonl_files = [file for file in files if file.endswith('.jsonl')]\n",
    "\n",
    "    # Open the output file in write mode\n",
    "    with open(output_file, \"w\", encoding=\"utf-8\") as merged_file:\n",
    "        for jsonl_file in jsonl_files:\n",
    "            # Open each JSONL file in read mode\n",
    "            with open(os.path.join(directory_path, jsonl_file), \"r\", encoding=\"utf-8\") as file:\n",
    "                for line in file:\n",
    "                    # Read each line from the JSONL file and write it to the merged file\n",
    "                    merged_file.write(line)\n",
    "\n",
    "    print(f\"Merged {len(jsonl_files)} JSONL files into {output_file}\")\n",
    "\n",
    "# Provide the directory path and output file name as input\n",
<<<<<<< HEAD
    "directory_path = \"/home/ssu36/tiger/NH_competition/mergedata/train\"\n",
    "output_file = \"/home/ssu36/tiger/NH_competition/mergedata/train/merged_3.jsonl\"\n",
=======
    "directory_path = \"/Users/yuksehyun/Desktop/NH나무/data/train\"\n",
    "output_file = \"/Users/yuksehyun/Desktop/NH나무/mergedata/train/merged.jsonl\"\n",
>>>>>>> 5aaa5931eae61afbfefd6bab4fa7315c55494121
    "\n",
    "# Call the function to merge JSONL files\n",
    "merge_jsonl_files(directory_path, output_file)\n"
   ]
  },
  {
   "cell_type": "code",
   "execution_count": null,
   "metadata": {},
   "outputs": [],
   "source": [
<<<<<<< HEAD
    "import click\n",
    "from tqdm.auto import tqdm\n",
    "from datasets import load_dataset\n",
    "\n",
    "ds = load_dataset(\n",
    "        \"json\",\n",
    "        data_files={\n",
    "            \"train\": \"/home/ssu36/tiger/NH_competition/resultdata/train/*.json\"\n",
=======
    "# dataset upload\n",
    "# huggingface respository에 파일 업로드\n",
    "from datasets import load_dataset\n",
    "\n",
    "\n",
    "ds = load_dataset(\n",
    "        \"json\",\n",
    "        data_files={\n",
    "            \"train\": \"/Users/yuksehyun/Desktop/NH나무/mergedata/train/*.json\"\n",
>>>>>>> 5aaa5931eae61afbfefd6bab4fa7315c55494121
    "        },\n",
    "    )\n",
    "\n",
    "ds.push_to_hub('sehyun66/Finnhub-News')\n",
    "\n"
   ]
<<<<<<< HEAD
  },
  {
   "cell_type": "code",
   "execution_count": null,
   "metadata": {},
   "outputs": [],
   "source": [
    "ds.push_to_hub('sehyun66/Finnhub-News')"
   ]
=======
>>>>>>> 5aaa5931eae61afbfefd6bab4fa7315c55494121
  }
 ],
 "metadata": {
  "kernelspec": {
   "display_name": "main",
   "language": "python",
   "name": "python3"
  },
  "language_info": {
   "codemirror_mode": {
    "name": "ipython",
    "version": 3
   },
   "file_extension": ".py",
   "mimetype": "text/x-python",
   "name": "python",
   "nbconvert_exporter": "python",
   "pygments_lexer": "ipython3",
<<<<<<< HEAD
   "version": "3.10.12"
=======
   "version": "3.9.17"
>>>>>>> 5aaa5931eae61afbfefd6bab4fa7315c55494121
  },
  "orig_nbformat": 4
 },
 "nbformat": 4,
 "nbformat_minor": 2
}

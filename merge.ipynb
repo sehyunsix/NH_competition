{
 "cells": [
  {
   "cell_type": "code",
   "execution_count": 3,
   "metadata": {},
   "outputs": [],
   "source": [
    "from datasets import load_dataset\n",
    "import pandas as pd"
   ]
  },
  {
   "cell_type": "code",
   "execution_count": 1,
   "metadata": {},
   "outputs": [
    {
     "name": "stdout",
     "output_type": "stream",
     "text": [
      "Merged 212 JSONL files into /Users/yuksehyun/Desktop/NH나무/mergedata/train/merged.jsonl\n"
     ]
    }
   ],
   "source": [
    "import os\n",
    "import json\n",
    "#종목별 데이터 json파일로 병합\n",
    "\n",
    "\n",
    "# Function to merge JSONL files in a directory\n",
    "def merge_jsonl_files(directory_path, output_file):\n",
    "    # List all files in the directory\n",
    "    files = os.listdir(directory_path)\n",
    "\n",
    "    # Filter JSONL files\n",
    "    jsonl_files = [file for file in files if file.endswith('.jsonl')]\n",
    "\n",
    "    # Open the output file in write mode\n",
    "    with open(output_file, \"w\", encoding=\"utf-8\") as merged_file:\n",
    "        for jsonl_file in jsonl_files:\n",
    "            # Open each JSONL file in read mode\n",
    "            with open(os.path.join(directory_path, jsonl_file), \"r\", encoding=\"utf-8\") as file:\n",
    "                for line in file:\n",
    "                    # Read each line from the JSONL file and write it to the merged file\n",
    "                    merged_file.write(line)\n",
    "\n",
    "    print(f\"Merged {len(jsonl_files)} JSONL files into {output_file}\")\n",
    "\n",
    "# Provide the directory path and output file name as input\n",
    "directory_path = \"/Users/yuksehyun/Desktop/NH나무/data/train\"\n",
    "output_file = \"/Users/yuksehyun/Desktop/NH나무/mergedata/train/merged.jsonl\"\n",
    "\n",
    "# Call the function to merge JSONL files\n",
    "merge_jsonl_files(directory_path, output_file)\n"
   ]
  },
  {
   "cell_type": "code",
   "execution_count": null,
   "metadata": {},
   "outputs": [],
   "source": [
    "# dataset upload\n",
    "# huggingface respository에 파일 업로드\n",
    "from datasets import load_dataset\n",
    "\n",
    "\n",
    "ds = load_dataset(\n",
    "        \"json\",\n",
    "        data_files={\n",
    "            \"train\": \"/Users/yuksehyun/Desktop/NH나무/mergedata/train/*.json\"\n",
    "        },\n",
    "    )\n",
    "\n",
    "ds.push_to_hub('sehyun66/Finnhub-News')\n",
    "\n"
   ]
  }
 ],
 "metadata": {
  "kernelspec": {
   "display_name": "main",
   "language": "python",
   "name": "python3"
  },
  "language_info": {
   "codemirror_mode": {
    "name": "ipython",
    "version": 3
   },
   "file_extension": ".py",
   "mimetype": "text/x-python",
   "name": "python",
   "nbconvert_exporter": "python",
   "pygments_lexer": "ipython3",
   "version": "3.9.17"
  },
  "orig_nbformat": 4
 },
 "nbformat": 4,
 "nbformat_minor": 2
}

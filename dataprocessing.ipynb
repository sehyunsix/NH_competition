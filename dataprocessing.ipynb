{
 "cells": [
  {
   "cell_type": "code",
   "execution_count": 13,
   "metadata": {},
   "outputs": [],
   "source": [
    "import pandas as pd\n",
    "import sys\n",
    "sys.path.append(\"/Users/yuksehyun/Desktop/NH나무/FinNLP\")\n",
    "from finnlp.data_sources.news.finnhub_date_range import Finnhub_Date_Range\n",
    "from finnlp.data_sources.news.yahoo_streaming import Yahoo_Date_Range\n",
    "from datasets import load_dataset\n",
    "\n",
    "STK_QUT = pd.read_csv('STK_QUT.csv')\n",
    "STK_IEM = pd.read_csv('STK_IEM.csv',encoding='EUC-KR')\n",
    "\n",
    "data = list(STK_IEM['tck_iem_cd'].unique())\n",
    "#name data\n",
    "name_data = list(STK_IEM['fc_sec_eng_nm'].unique())\n",
    "named_data = [ x.split() for x in name_data]\n",
    "name_data = [ \" \".join(x) for x in named_data]\n",
    "\n",
    "#ticker data\n",
    "ticker_data = [ x.split()[0] for x in data]"
   ]
  },
  {
   "cell_type": "code",
   "execution_count": 16,
   "metadata": {},
   "outputs": [
    {
     "name": "stderr",
     "output_type": "stream",
     "text": [
      "Found cached dataset parquet (/Users/yuksehyun/.cache/huggingface/datasets/sehyun66___parquet/sehyun66--Finnhub-News-ae5d34837438db29/0.0.0/14a00e99c0d15a23649d0db8944380ac81082d4b021f398733dd84f3a6c569a7)\n"
     ]
    }
   ],
   "source": [
    "data = load_dataset('sehyun66/Finnhub-News',split='train')"
   ]
  },
  {
   "cell_type": "code",
   "execution_count": 26,
   "metadata": {},
   "outputs": [
    {
     "ename": "KeyboardInterrupt",
     "evalue": "",
     "output_type": "error",
     "traceback": [
      "\u001b[0;31m---------------------------------------------------------------------------\u001b[0m",
      "\u001b[0;31mKeyboardInterrupt\u001b[0m                         Traceback (most recent call last)",
      "\u001b[1;32m/Users/yuksehyun/Desktop/NH나무/dataprocessing.ipynb Cell 3\u001b[0m line \u001b[0;36m1\n\u001b[0;32m----> <a href='vscode-notebook-cell:/Users/yuksehyun/Desktop/NH%E1%84%82%E1%85%A1%E1%84%86%E1%85%AE/dataprocessing.ipynb#Y110sZmlsZQ%3D%3D?line=0'>1</a>\u001b[0m df\u001b[39m=\u001b[39mpd\u001b[39m.\u001b[39;49mDataFrame(data)\n",
      "File \u001b[0;32m~/anaconda3/envs/main/lib/python3.9/site-packages/pandas/core/frame.py:774\u001b[0m, in \u001b[0;36mDataFrame.__init__\u001b[0;34m(self, data, index, columns, dtype, copy)\u001b[0m\n\u001b[1;32m    772\u001b[0m         data \u001b[39m=\u001b[39m np\u001b[39m.\u001b[39masarray(data)\n\u001b[1;32m    773\u001b[0m     \u001b[39melse\u001b[39;00m:\n\u001b[0;32m--> 774\u001b[0m         data \u001b[39m=\u001b[39m \u001b[39mlist\u001b[39;49m(data)\n\u001b[1;32m    775\u001b[0m \u001b[39mif\u001b[39;00m \u001b[39mlen\u001b[39m(data) \u001b[39m>\u001b[39m \u001b[39m0\u001b[39m:\n\u001b[1;32m    776\u001b[0m     \u001b[39mif\u001b[39;00m is_dataclass(data[\u001b[39m0\u001b[39m]):\n",
      "File \u001b[0;32m~/anaconda3/envs/main/lib/python3.9/site-packages/datasets/arrow_dataset.py:2374\u001b[0m, in \u001b[0;36mDataset.__iter__\u001b[0;34m(self)\u001b[0m\n\u001b[1;32m   2372\u001b[0m         \u001b[39mfor\u001b[39;00m i \u001b[39min\u001b[39;00m \u001b[39mrange\u001b[39m(pa_subtable\u001b[39m.\u001b[39mnum_rows):\n\u001b[1;32m   2373\u001b[0m             pa_subtable_ex \u001b[39m=\u001b[39m pa_subtable\u001b[39m.\u001b[39mslice(i, \u001b[39m1\u001b[39m)\n\u001b[0;32m-> 2374\u001b[0m             formatted_output \u001b[39m=\u001b[39m format_table(\n\u001b[1;32m   2375\u001b[0m                 pa_subtable_ex,\n\u001b[1;32m   2376\u001b[0m                 \u001b[39m0\u001b[39;49m,\n\u001b[1;32m   2377\u001b[0m                 formatter\u001b[39m=\u001b[39;49mformatter,\n\u001b[1;32m   2378\u001b[0m                 format_columns\u001b[39m=\u001b[39;49m\u001b[39mself\u001b[39;49m\u001b[39m.\u001b[39;49m_format_columns,\n\u001b[1;32m   2379\u001b[0m                 output_all_columns\u001b[39m=\u001b[39;49m\u001b[39mself\u001b[39;49m\u001b[39m.\u001b[39;49m_output_all_columns,\n\u001b[1;32m   2380\u001b[0m             )\n\u001b[1;32m   2381\u001b[0m             \u001b[39myield\u001b[39;00m formatted_output\n\u001b[1;32m   2382\u001b[0m \u001b[39melse\u001b[39;00m:\n",
      "File \u001b[0;32m~/anaconda3/envs/main/lib/python3.9/site-packages/datasets/formatting/formatting.py:629\u001b[0m, in \u001b[0;36mformat_table\u001b[0;34m(table, key, formatter, format_columns, output_all_columns)\u001b[0m\n\u001b[1;32m    627\u001b[0m python_formatter \u001b[39m=\u001b[39m PythonFormatter(features\u001b[39m=\u001b[39m\u001b[39mNone\u001b[39;00m)\n\u001b[1;32m    628\u001b[0m \u001b[39mif\u001b[39;00m format_columns \u001b[39mis\u001b[39;00m \u001b[39mNone\u001b[39;00m:\n\u001b[0;32m--> 629\u001b[0m     \u001b[39mreturn\u001b[39;00m formatter(pa_table, query_type\u001b[39m=\u001b[39;49mquery_type)\n\u001b[1;32m    630\u001b[0m \u001b[39melif\u001b[39;00m query_type \u001b[39m==\u001b[39m \u001b[39m\"\u001b[39m\u001b[39mcolumn\u001b[39m\u001b[39m\"\u001b[39m:\n\u001b[1;32m    631\u001b[0m     \u001b[39mif\u001b[39;00m key \u001b[39min\u001b[39;00m format_columns:\n",
      "File \u001b[0;32m~/anaconda3/envs/main/lib/python3.9/site-packages/datasets/formatting/formatting.py:396\u001b[0m, in \u001b[0;36mFormatter.__call__\u001b[0;34m(self, pa_table, query_type)\u001b[0m\n\u001b[1;32m    394\u001b[0m \u001b[39mdef\u001b[39;00m \u001b[39m__call__\u001b[39m(\u001b[39mself\u001b[39m, pa_table: pa\u001b[39m.\u001b[39mTable, query_type: \u001b[39mstr\u001b[39m) \u001b[39m-\u001b[39m\u001b[39m>\u001b[39m Union[RowFormat, ColumnFormat, BatchFormat]:\n\u001b[1;32m    395\u001b[0m     \u001b[39mif\u001b[39;00m query_type \u001b[39m==\u001b[39m \u001b[39m\"\u001b[39m\u001b[39mrow\u001b[39m\u001b[39m\"\u001b[39m:\n\u001b[0;32m--> 396\u001b[0m         \u001b[39mreturn\u001b[39;00m \u001b[39mself\u001b[39;49m\u001b[39m.\u001b[39;49mformat_row(pa_table)\n\u001b[1;32m    397\u001b[0m     \u001b[39melif\u001b[39;00m query_type \u001b[39m==\u001b[39m \u001b[39m\"\u001b[39m\u001b[39mcolumn\u001b[39m\u001b[39m\"\u001b[39m:\n\u001b[1;32m    398\u001b[0m         \u001b[39mreturn\u001b[39;00m \u001b[39mself\u001b[39m\u001b[39m.\u001b[39mformat_column(pa_table)\n",
      "File \u001b[0;32m~/anaconda3/envs/main/lib/python3.9/site-packages/datasets/formatting/formatting.py:436\u001b[0m, in \u001b[0;36mPythonFormatter.format_row\u001b[0;34m(self, pa_table)\u001b[0m\n\u001b[1;32m    434\u001b[0m \u001b[39mif\u001b[39;00m \u001b[39mself\u001b[39m\u001b[39m.\u001b[39mlazy:\n\u001b[1;32m    435\u001b[0m     \u001b[39mreturn\u001b[39;00m LazyRow(pa_table, \u001b[39mself\u001b[39m)\n\u001b[0;32m--> 436\u001b[0m row \u001b[39m=\u001b[39m \u001b[39mself\u001b[39;49m\u001b[39m.\u001b[39;49mpython_arrow_extractor()\u001b[39m.\u001b[39;49mextract_row(pa_table)\n\u001b[1;32m    437\u001b[0m row \u001b[39m=\u001b[39m \u001b[39mself\u001b[39m\u001b[39m.\u001b[39mpython_features_decoder\u001b[39m.\u001b[39mdecode_row(row)\n\u001b[1;32m    438\u001b[0m \u001b[39mreturn\u001b[39;00m row\n",
      "File \u001b[0;32m~/anaconda3/envs/main/lib/python3.9/site-packages/datasets/formatting/formatting.py:144\u001b[0m, in \u001b[0;36mPythonArrowExtractor.extract_row\u001b[0;34m(self, pa_table)\u001b[0m\n\u001b[1;32m    143\u001b[0m \u001b[39mdef\u001b[39;00m \u001b[39mextract_row\u001b[39m(\u001b[39mself\u001b[39m, pa_table: pa\u001b[39m.\u001b[39mTable) \u001b[39m-\u001b[39m\u001b[39m>\u001b[39m \u001b[39mdict\u001b[39m:\n\u001b[0;32m--> 144\u001b[0m     \u001b[39mreturn\u001b[39;00m _unnest(pa_table\u001b[39m.\u001b[39;49mto_pydict())\n",
      "File \u001b[0;32m~/anaconda3/envs/main/lib/python3.9/site-packages/pyarrow/table.pxi:4022\u001b[0m, in \u001b[0;36mpyarrow.lib.Table.to_pydict\u001b[0;34m()\u001b[0m\n",
      "File \u001b[0;32m~/anaconda3/envs/main/lib/python3.9/site-packages/pyarrow/table.pxi:1284\u001b[0m, in \u001b[0;36mpyarrow.lib.ChunkedArray.to_pylist\u001b[0;34m()\u001b[0m\n",
      "File \u001b[0;32m~/anaconda3/envs/main/lib/python3.9/site-packages/pyarrow/array.pxi:1498\u001b[0m, in \u001b[0;36mpyarrow.lib.Array.to_pylist\u001b[0;34m()\u001b[0m\n",
      "File \u001b[0;32m~/anaconda3/envs/main/lib/python3.9/site-packages/pyarrow/scalar.pxi:521\u001b[0m, in \u001b[0;36mpyarrow.lib.TimestampScalar.as_py\u001b[0;34m()\u001b[0m\n",
      "File \u001b[0;32m~/anaconda3/envs/main/lib/python3.9/site-packages/pyarrow/scalar.pxi:418\u001b[0m, in \u001b[0;36mpyarrow.lib._datetime_from_int\u001b[0;34m()\u001b[0m\n",
      "\u001b[0;31mKeyboardInterrupt\u001b[0m: "
     ]
    }
   ],
   "source": [
    "df=pd.DataFrame(data)"
   ]
  },
  {
   "cell_type": "code",
   "execution_count": null,
   "metadata": {},
   "outputs": [],
   "source": [
    "df[df['related']=='ANGH']"
   ]
  },
  {
   "cell_type": "code",
   "execution_count": null,
   "metadata": {},
   "outputs": [],
   "source": [
    "import matplotlib.pyplot as plt\n",
    "\n",
    "y = [len(df[df['related']==ticker]) for ticker in ticker_data]\n",
    "x = list(range(len(ticker_data)))\n",
    "\n",
    "# Create a histogram"
   ]
  },
  {
   "cell_type": "code",
   "execution_count": null,
   "metadata": {},
   "outputs": [],
   "source": [
    "plt.bar(x, y)\n",
    "\n",
    "# Label the axes and give a title\n",
    "plt.xlabel('X')\n",
    "plt.ylabel('Y')\n",
    "plt.title('Histogram with X as Index and Y as Values')\n",
    "plt.ylim((0,2000))\n",
    "# Show the plot\n",
    "plt.show()"
   ]
  },
  {
   "cell_type": "code",
   "execution_count": null,
   "metadata": {},
   "outputs": [],
   "source": [
    "import matplotlib.pyplot as plt\n",
    "import matplotlib.ticker as ticker\n",
    "import mplfinance as fplt\n",
    "\n",
    "fig = plt.figure(figsize=(12, 8))\n",
    "ax = fig.add_subplot()  \n",
    "mpl_finance.candlestick2_ohlc(ax, Nvidia['gts_iem_ong_pr'], Nvidia['gts_iem_hi_pr'], Nvidia['gts_iem_low_pr'], Nvidia['gts_iem_end_pr'], width=0.5, colorup='r', colordown='b')\n",
    "ax.xaxis.set_ticks([n for n in range(1,len(TimeIndex),30)])\n",
    "ax.set_xticklabels([TimeIndex.iloc[n] for n in range(1,len(TimeIndex),30)])\n",
    "plt.show()"
   ]
  },
  {
   "cell_type": "code",
   "execution_count": null,
   "metadata": {},
   "outputs": [],
   "source": [
    "fplt.plot(  data,\n",
    "            type='candle',\n",
    "            style='charles',\n",
    "            title='Nvidia, March - 2020',\n",
    "            ylabel='Price ($)',\n",
    "            volume=True,\n",
    "            ylabel_lower='Shares\\nTraded',\n",
    "        )"
   ]
  },
  {
   "cell_type": "code",
   "execution_count": 140,
   "metadata": {},
   "outputs": [],
   "source": [
    "Nvidia.index = TimeIndex\n",
    "data = Nvidia.drop(columns=['trd_dt','tck_iem_cd'])\n",
    "data.index.name = 'Date'\n",
    "data.columns = ['Open','High','Low','Close','Volume','sll','byn']\n",
    "data.index = pd.DatetimeIndex(data.index)"
   ]
  }
 ],
 "metadata": {
  "kernelspec": {
   "display_name": "main",
   "language": "python",
   "name": "python3"
  },
  "language_info": {
   "codemirror_mode": {
    "name": "ipython",
    "version": 3
   },
   "file_extension": ".py",
   "mimetype": "text/x-python",
   "name": "python",
   "nbconvert_exporter": "python",
   "pygments_lexer": "ipython3",
   "version": "3.9.17"
  },
  "orig_nbformat": 4
 },
 "nbformat": 4,
 "nbformat_minor": 2
}
